{
 "cells": [
  {
   "cell_type": "code",
   "execution_count": null,
   "id": "95b35293",
   "metadata": {},
   "outputs": [],
   "source": [
    "# 📌Q1. 숫자를 입력 받고 그 숫자의 구구단을 출력하는 함수를 만들어 봅시다. 다만 아래의 조건을 만족해 주세요.\n",
    "# 조건 1: 홀 수 번째만 출력하기\n",
    "# 조건 2: 값이 50이하인 것만 출력하기\n",
    "\n",
    "def gugudan(number):\n",
    "    print(number, \"단\")\n",
    "    a = 0\n",
    "    while True:\n",
    "        a = a + 1\n",
    "        if a % 2 == 1 and number*a <=50:\n",
    "            print(number,\"X\", a, \"=\", number * a)\n",
    "number = int(input(\"몇 단? : \"))\n",
    "gugudan(number)"
   ]
  },
  {
   "cell_type": "code",
   "execution_count": null,
   "id": "c310f128",
   "metadata": {},
   "outputs": [],
   "source": [
    "# 📌Q2. 가위바위보 업그레이드 버젼을 함수로 만들어 봅시다. \n",
    "\n",
    "import random\n",
    "def rsp_advanced_str(n):\n",
    "    if n == 0:\n",
    "        return '가위'\n",
    "    elif n == 1:\n",
    "        return '바위'\n",
    "    elif n == 2:\n",
    "        return '보'\n",
    "def rsp_advanced(n):\n",
    "        try :\n",
    "            x = 0\n",
    "            mycount = 0\n",
    "            comcount = 0\n",
    "            while x < n:\n",
    "                x = x + 1\n",
    "                my = int(input(\"0: 가위, 1: 바위, 2: 보 > \"))\n",
    "                if my > 2:\n",
    "                    my = int(input(\"0: 가위, 1: 바위, 2: 보 >\"))\n",
    "                com = random.randint(0, 2)\n",
    "                res = my - com\n",
    "                print(\"나:\",rsp_advanced_str(my))\n",
    "                print(\"컴퓨터:\",rsp_advanced_str(com))\n",
    "                \n",
    "                if res == -1 or res == 2:\n",
    "                    print(x,'번째 판 컴퓨터의 승리!\\n')\n",
    "                    comcount = comcount + 1\n",
    "                elif res == -2 or res == 1:\n",
    "                    print(x,'번째 판 나의 승리!\\n')\n",
    "                    mycount = mycount + 1\n",
    "                elif res == 0:\n",
    "                    print(x,'번째 판 비김!\\n')\n",
    "            \n",
    "            print('나의 전적:',mycount,'승', n-(mycount+comcount),'무',comcount,'패')\n",
    "            print('컴퓨터의 전적:',comcount,'승', n-(mycount+comcount),'무',mycount,'패')\n",
    "        except :\n",
    "            games = int(input(\"몇 판을 진행하시겠습니까? : \"))\n",
    "            rsp_advanced(games)\n",
    "games = int(input(\"몇 판을 진행하시겠습니까? : \"))\n",
    "rsp_advanced(games)"
   ]
  },
  {
   "cell_type": "code",
   "execution_count": null,
   "id": "e0ac7e95",
   "metadata": {},
   "outputs": [],
   "source": [
    "# 📌Q3. 2개의 숫자를 입력하여 그 사이에 짝수만 출력하는 함수를 만들어 봅시다. \n",
    "# 그리고 중앙값도 함께 출력 해봅시다.\n",
    "# (단, 중앙값이 짝수가 아닐 경우에는 중앙값은 출력을 하지 않고, 짝수인 수만 출력한다)\n",
    "\n",
    "def find_even_number(n, m):\n",
    "    numbers = [ i for i in range(n,m+1)] \n",
    "    for num in numbers:\n",
    "        if num%2 == 0:\n",
    "            print(num,'짝수')\n",
    "            if round((n+m)/2) == num:\n",
    "                print(num,'중앙값')\n",
    "n = int(input(\"첫 번째 수 입력 : \"))\n",
    "m = int(input(\"두 번째 수 입력 : \"))\n",
    "find_even_number(n, m)"
   ]
  },
  {
   "cell_type": "code",
   "execution_count": null,
   "id": "f410bbb4",
   "metadata": {},
   "outputs": [],
   "source": [
    "# 📌Q4. 2개의 숫자를 입력하여 그 사이에 소수가 몇 개인지 출력하는 함수를 만들어 봅시다.\n",
    "\n",
    "def count_prime_number(n, m):\n",
    "    numbers = [ i for i in range(n,m+1)] \n",
    "    count = 0\n",
    "    for num in numbers:\n",
    "        result = True\n",
    "        for j in range(2,num):\n",
    "            if num%j == 0:\n",
    "                result = False\n",
    "        if result != False and num != 1:\n",
    "            count += 1\n",
    "    print('소수개수 ',count)\n",
    "n = int(input(\"첫 번째 수 입력 : \"))\n",
    "m = int(input(\"두 번째 수 입력 : \"))\n",
    "count_prime_number(n, m)"
   ]
  }
 ],
 "metadata": {
  "kernelspec": {
   "display_name": "Python 3 (ipykernel)",
   "language": "python",
   "name": "python3"
  },
  "language_info": {
   "codemirror_mode": {
    "name": "ipython",
    "version": 3
   },
   "file_extension": ".py",
   "mimetype": "text/x-python",
   "name": "python",
   "nbconvert_exporter": "python",
   "pygments_lexer": "ipython3",
   "version": "3.9.7"
  }
 },
 "nbformat": 4,
 "nbformat_minor": 5
}
